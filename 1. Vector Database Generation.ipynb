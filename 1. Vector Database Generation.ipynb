{
 "cells": [
  {
   "cell_type": "markdown",
   "id": "b9e012de",
   "metadata": {},
   "source": [
    "# 1. Vector Database Generation\n",
    "This code generates the vector database for a PDF document. For this application, a car manual.\n",
    "This code should be run only once, since the results are save in disk.\n",
    "\n",
    "Authors:\n",
    "- Luis Bernardo Hernandez Salinas\n",
    "- Juan R. Terven"
   ]
  },
  {
   "cell_type": "code",
   "execution_count": null,
   "id": "bc9ed2ea",
   "metadata": {},
   "outputs": [],
   "source": [
    "import os\n",
    "from langchain.document_loaders import PyPDFLoader\n",
    "from langchain.text_splitter import RecursiveCharacterTextSplitter\n",
    "from langchain_openai import OpenAIEmbeddings\n",
    "from langchain.vectorstores import Chroma"
   ]
  },
  {
   "cell_type": "markdown",
   "id": "c947d552",
   "metadata": {},
   "source": [
    "## Set API key, embedding and vector database path"
   ]
  },
  {
   "cell_type": "code",
   "execution_count": null,
   "id": "ee5cfd83",
   "metadata": {},
   "outputs": [],
   "source": [
    "client = os.environ['OPENAI_API_KEY']\n",
    "embedding_dimensions = 3072 #1536  # 3072\n",
    "\n",
    "# OpenAI embedding model\n",
    "embedding_model = OpenAIEmbeddings(model=\"text-embedding-3-large\", dimensions=embedding_dimensions)\n",
    "\n",
    "# Vector dataset\n",
    "manual_file = r\"C:\\Users\\jrtervens\\Dropbox\\Projects\\SACI\\2020-Ford-Mustang-Owners-Manual-version-2_om_EN-US_12_2019.pdf\"\n",
    "vectordb_directory = f'vector_database_mustang_{embedding_dimensions}'"
   ]
  },
  {
   "cell_type": "markdown",
   "id": "daee09fa",
   "metadata": {},
   "source": [
    "## Load PDF"
   ]
  },
  {
   "cell_type": "code",
   "execution_count": null,
   "id": "61bc2679",
   "metadata": {},
   "outputs": [],
   "source": [
    "loader = PyPDFLoader(manual_file)\n",
    "\n",
    "# load pdf pagesÇ\n",
    "pages = loader.load()\n",
    "print(f\"The document has {len(pages)} pages\")"
   ]
  },
  {
   "cell_type": "code",
   "execution_count": null,
   "id": "4a34557b",
   "metadata": {},
   "outputs": [],
   "source": [
    "# Lets check one page\n",
    "pages[100]"
   ]
  },
  {
   "cell_type": "markdown",
   "id": "bbbda453",
   "metadata": {},
   "source": [
    "## Documents Splitting"
   ]
  },
  {
   "cell_type": "code",
   "execution_count": null,
   "id": "840ab293",
   "metadata": {},
   "outputs": [],
   "source": [
    "# RecursiveCharacterTextSplitter with overlap\n",
    "text_splitter = RecursiveCharacterTextSplitter(\n",
    "    chunk_size = 2000,  # chunk size in characters\n",
    "    chunk_overlap = 150 # Caracteres de solapamiento entre segmentos consecutivos.\n",
    ")\n",
    "\n",
    "# split documents\n",
    "splits = text_splitter.split_documents(pages)\n",
    "\n",
    "print(f\"Generated {len(splits)} splits\")"
   ]
  },
  {
   "cell_type": "markdown",
   "id": "3e570e49",
   "metadata": {},
   "source": [
    "## Create Vector database"
   ]
  },
  {
   "cell_type": "code",
   "execution_count": null,
   "id": "f9b18913",
   "metadata": {},
   "outputs": [],
   "source": [
    "# Create vector database from the embedding of the documents splits \n",
    "vectordb = Chroma.from_documents(\n",
    "    documents=splits,\n",
    "    embedding=embedding_model,\n",
    "    persist_directory=vectordb_directory\n",
    ")\n",
    "\n",
    "print(f\"Saved {vectordb._collection.count()} collections in vector database\")"
   ]
  },
  {
   "cell_type": "code",
   "execution_count": null,
   "id": "03181003",
   "metadata": {},
   "outputs": [],
   "source": []
  }
 ],
 "metadata": {
  "kernelspec": {
   "display_name": "idas",
   "language": "python",
   "name": "idas"
  },
  "language_info": {
   "codemirror_mode": {
    "name": "ipython",
    "version": 3
   },
   "file_extension": ".py",
   "mimetype": "text/x-python",
   "name": "python",
   "nbconvert_exporter": "python",
   "pygments_lexer": "ipython3",
   "version": "3.10.14"
  }
 },
 "nbformat": 4,
 "nbformat_minor": 5
}
