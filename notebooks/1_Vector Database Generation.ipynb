{
 "cells": [
  {
   "cell_type": "markdown",
   "id": "b9e012de",
   "metadata": {},
   "source": [
    "# 1. Vector Database Generation\n",
    "This code generates the vector database for a PDF document. For this application, a car manual.\n",
    "This code should be run only once, since the results are save in disk.\n",
    "\n",
    "Authors:\n",
    "- Luis Bernardo Hernandez Salinas\n",
    "- Juan R. Terven"
   ]
  },
  {
   "cell_type": "code",
   "execution_count": 1,
   "id": "bc9ed2ea",
   "metadata": {},
   "outputs": [],
   "source": [
    "import os\n",
    "from langchain.document_loaders import PyPDFLoader\n",
    "from langchain.text_splitter import RecursiveCharacterTextSplitter\n",
    "from langchain_openai import OpenAIEmbeddings\n",
    "from langchain.vectorstores import Chroma"
   ]
  },
  {
   "cell_type": "markdown",
   "id": "c947d552",
   "metadata": {},
   "source": [
    "## Set API key, embedding and vector database path"
   ]
  },
  {
   "cell_type": "code",
   "execution_count": 4,
   "id": "ee5cfd83",
   "metadata": {},
   "outputs": [
    {
     "name": "stdout",
     "output_type": "stream",
     "text": [
      "Output directory: vector_database_kia_sorento_3072\n"
     ]
    }
   ],
   "source": [
    "client = os.environ['OPENAI_API_KEY']\n",
    "embedding_dimensions = 3072 #1536  # 3072\n",
    "\n",
    "# OpenAI embedding model\n",
    "embedding_model = OpenAIEmbeddings(model=\"text-embedding-3-large\", dimensions=embedding_dimensions)\n",
    "\n",
    "# Vector dataset\n",
    "vehicle_name = \"kia_sorento\"\n",
    "manual_file = \"car_manuals/2019-Kia-Sorento-Owners-Manual.pdf\"\n",
    "vectordb_directory = f'vector_database_{vehicle_name}_{embedding_dimensions}'\n",
    "\n",
    "print(f\"Output directory: {vectordb_directory}\")"
   ]
  },
  {
   "cell_type": "markdown",
   "id": "daee09fa",
   "metadata": {},
   "source": [
    "## Load PDF"
   ]
  },
  {
   "cell_type": "code",
   "execution_count": 5,
   "id": "61bc2679",
   "metadata": {},
   "outputs": [
    {
     "name": "stdout",
     "output_type": "stream",
     "text": [
      "The document has 585 pages\n"
     ]
    }
   ],
   "source": [
    "loader = PyPDFLoader(manual_file)\n",
    "\n",
    "# load pdf pagesÇ\n",
    "pages = loader.load()\n",
    "print(f\"The document has {len(pages)} pages\")"
   ]
  },
  {
   "cell_type": "code",
   "execution_count": 6,
   "id": "4a34557b",
   "metadata": {},
   "outputs": [
    {
     "data": {
      "text/plain": [
       "Document(metadata={'source': 'car_manuals/2019-Kia-Sorento-Owners-Manual.pdf', 'page': 100}, page_content=\"41 3Features of your vehicle\\nUnlocking\\nUsing the door handle button\\n1. Carry the smart key.2. Press the button of the driver's\\noutside door handle.\\n3. The driver’s door will unlock. The\\nhazard warning lights will blink and\\nthe chime will sound two times.\\n4. Press the button twice within 4\\nseconds and all doors and the lift-gate will unlock and the hazardwarning lights will blink and thechime will sound two times.\\n✽✽NOTICE\\n• The button will only operate when\\nthe smart key is within 28~40in.\\n(0.7~1m) from the outside doorhandle.\\n• When the smart key is recognized in\\nthe area of 28~40in. (0.7~1m) fromthe front outside door handle, otherpeople can also open the doors.\\n• After unlocking the driver’s door\\nor all doors, the door(s) will lockautomatically unless the door isopened.Using the button on the smart key\\n1. Press the unlock button(2) of the\\nsmart key.\\n2. The driver’s door will unlock. The\\nhazard warning lights will blink and\\nthe chime will sound two times.\\n3. Press the unlock button(2) twice\\nwithin 4 seconds and all doors andthe liftgate will unlock. The hazardwarning lights will blink and thechime will sound two times.\\n✽✽NOTICE\\nAfter pressing the button, the doors\\nwill lock automatically unless anydoor is opened within 30 seconds.\\n✽✽NOTICE\\nYou can activate or deactivate the\\nTwo Turn Unlock function. Refer to“User settings” in this chapter.Liftgate unlocking\\nUsing the liftgate handle button\\n1. Carry the smart key.2. Press the liftgate handle button.3. When all doors are locked, the\\nhazard warning lights will blink two\\ntimes.\\nOnce the liftgate is opened and\\nthen closed, the liftgate will lockautomatically.\\n✽✽NOTICE\\nThe button will only operate when\\nthe smart key is within 28~40in.(0.7~1m) from the liftgate handle.UMA PE USA 4.qxp  12/19/2017  8:15 PM  Page 13\")"
      ]
     },
     "execution_count": 6,
     "metadata": {},
     "output_type": "execute_result"
    }
   ],
   "source": [
    "# Lets check one page\n",
    "pages[100]"
   ]
  },
  {
   "cell_type": "markdown",
   "id": "bbbda453",
   "metadata": {},
   "source": [
    "## Documents Splitting"
   ]
  },
  {
   "cell_type": "code",
   "execution_count": 7,
   "id": "840ab293",
   "metadata": {},
   "outputs": [
    {
     "name": "stdout",
     "output_type": "stream",
     "text": [
      "Generated 646 splits\n"
     ]
    }
   ],
   "source": [
    "# RecursiveCharacterTextSplitter with overlap\n",
    "text_splitter = RecursiveCharacterTextSplitter(\n",
    "    chunk_size = 2000,  # chunk size in characters\n",
    "    chunk_overlap = 150 # Caracteres de solapamiento entre segmentos consecutivos.\n",
    ")\n",
    "\n",
    "# split documents\n",
    "splits = text_splitter.split_documents(pages)\n",
    "\n",
    "print(f\"Generated {len(splits)} splits\")"
   ]
  },
  {
   "cell_type": "markdown",
   "id": "3e570e49",
   "metadata": {},
   "source": [
    "## Create Vector database"
   ]
  },
  {
   "cell_type": "code",
   "execution_count": 8,
   "id": "f9b18913",
   "metadata": {},
   "outputs": [
    {
     "name": "stdout",
     "output_type": "stream",
     "text": [
      "Saved 646 collections in vector database\n"
     ]
    }
   ],
   "source": [
    "# Create vector database from the embedding of the documents splits \n",
    "vectordb = Chroma.from_documents(\n",
    "    documents=splits,\n",
    "    embedding=embedding_model,\n",
    "    persist_directory=vectordb_directory\n",
    ")\n",
    "\n",
    "print(f\"Saved {vectordb._collection.count()} collections in vector database\")"
   ]
  },
  {
   "cell_type": "code",
   "execution_count": null,
   "id": "03181003",
   "metadata": {},
   "outputs": [],
   "source": []
  }
 ],
 "metadata": {
  "kernelspec": {
   "display_name": "idas",
   "language": "python",
   "name": "idas"
  },
  "language_info": {
   "codemirror_mode": {
    "name": "ipython",
    "version": 3
   },
   "file_extension": ".py",
   "mimetype": "text/x-python",
   "name": "python",
   "nbconvert_exporter": "python",
   "pygments_lexer": "ipython3",
   "version": "3.10.14"
  }
 },
 "nbformat": 4,
 "nbformat_minor": 5
}
